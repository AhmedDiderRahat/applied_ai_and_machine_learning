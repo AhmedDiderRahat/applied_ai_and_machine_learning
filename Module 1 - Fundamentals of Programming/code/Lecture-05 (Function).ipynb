{
 "cells": [
  {
   "cell_type": "code",
   "execution_count": 2,
   "metadata": {},
   "outputs": [
    {
     "name": "stdout",
     "output_type": "stream",
     "text": [
      "The custorm message is: Beachtung! Türen werden automatisch geöffnet\n"
     ]
    }
   ],
   "source": [
    "\"\"\"Function breakdown a program into smaller and moduler chunk\"\"\"\n",
    "\n",
    "def messagePrinter(message):\n",
    "    \"\"\"This function just print a message. The parameter is the user message and return value is nothing\"\"\"\n",
    "    print('The custorm message is: ' + message)\n",
    "    \n",
    "messagePrinter('Beachtung! Türen werden automatisch geöffnet')"
   ]
  },
  {
   "cell_type": "code",
   "execution_count": 6,
   "metadata": {},
   "outputs": [
    {
     "name": "stdout",
     "output_type": "stream",
     "text": [
      "This function calculate the summation of a give list and returns it sum value\n",
      "15\n"
     ]
    }
   ],
   "source": [
    "#function with return type\n",
    "\n",
    "def getSum(data):\n",
    "    \"\"\"This function calculate the summation of a give list and returns it sum value\"\"\"\n",
    "    _sum = 0\n",
    "    \n",
    "    for element in data:\n",
    "        _sum += element\n",
    "    return _sum\n",
    "\n",
    "myData = [1, 3, 5, 2, 4]\n",
    "summation = getSum(myData)\n",
    "\n",
    "print(getSum.__doc__) #we can print the function desxription comment using __doc__\n",
    "print(summation)"
   ]
  },
  {
   "cell_type": "code",
   "execution_count": 7,
   "metadata": {},
   "outputs": [
    {
     "name": "stdout",
     "output_type": "stream",
     "text": [
      "100\n"
     ]
    }
   ],
   "source": [
    "\"\"\"There are two types of functions: Standrad library function and user define function. Here are some STD Functions\"\"\"\n",
    "\n",
    "#abs function return the absolute value of a function\n",
    "\n",
    "n = -100\n",
    "print(abs(n))"
   ]
  },
  {
   "cell_type": "code",
   "execution_count": 8,
   "metadata": {},
   "outputs": [
    {
     "name": "stdout",
     "output_type": "stream",
     "text": [
      "['__add__', '__class__', '__contains__', '__delattr__', '__delitem__', '__dir__', '__doc__', '__eq__', '__format__', '__ge__', '__getattribute__', '__getitem__', '__gt__', '__hash__', '__iadd__', '__imul__', '__init__', '__init_subclass__', '__iter__', '__le__', '__len__', '__lt__', '__mul__', '__ne__', '__new__', '__reduce__', '__reduce_ex__', '__repr__', '__reversed__', '__rmul__', '__setattr__', '__setitem__', '__sizeof__', '__str__', '__subclasshook__', 'append', 'clear', 'copy', 'count', 'extend', 'index', 'insert', 'pop', 'remove', 'reverse', 'sort']\n"
     ]
    }
   ],
   "source": [
    "#dir function returns all the attributes and functions of a data object\n",
    "\n",
    "arr = []\n",
    "print(dir(arr))"
   ]
  },
  {
   "cell_type": "code",
   "execution_count": 9,
   "metadata": {},
   "outputs": [
    {
     "name": "stdout",
     "output_type": "stream",
     "text": [
      "(3, 1)\n"
     ]
    }
   ],
   "source": [
    "#divmod function takes parameters(d1, d2) and return a tuple(q, m) where d1=divident, d2=divisor, q=quotient & m=modules\n",
    "\n",
    "dm = divmod(7, 2)\n",
    "print(dm)"
   ]
  },
  {
   "cell_type": "code",
   "execution_count": 18,
   "metadata": {},
   "outputs": [
    {
     "name": "stdout",
     "output_type": "stream",
     "text": [
      "[0, 1, 2, 3, 4]\n"
     ]
    }
   ],
   "source": [
    "#enumerate function\n",
    "\n",
    "data = [10, 20, 30, 40, 50]\n",
    "\n",
    "ind = [i for i,val in enumerate(data)]\n",
    "\n",
    "print(ind)"
   ]
  },
  {
   "cell_type": "code",
   "execution_count": 24,
   "metadata": {},
   "outputs": [
    {
     "name": "stdout",
     "output_type": "stream",
     "text": [
      "[-10, -9, -8, -7, -6, -5, -4, -3, -2, -1, 0, 1, 2, 3, 4, 5, 6, 7, 8, 9]\n",
      "[1, 2, 3, 4, 5, 6, 7, 8, 9]\n"
     ]
    }
   ],
   "source": [
    "#filter function take two paremeter one is the custom function we use and another one is the sequence\n",
    "\n",
    "def positiveFilter(num):\n",
    "    \"\"\"This function remove all the negative numbers from a list\"\"\"\n",
    "    \n",
    "    if num > 0:\n",
    "        return num\n",
    "\n",
    "numbers = range(-10, 10)\n",
    "print(list(numbers))\n",
    "\n",
    "pos_num = list(filter(positiveFilter, numbers))\n",
    "print(pos_num)"
   ]
  },
  {
   "cell_type": "code",
   "execution_count": 3,
   "metadata": {},
   "outputs": [
    {
     "name": "stdout",
     "output_type": "stream",
     "text": [
      "[1, 4, 9, 16, 25]\n"
     ]
    }
   ],
   "source": [
    "#Map function is used to do any action over the list\n",
    "\n",
    "def squareMaker(num):\n",
    "    return num ** 2\n",
    "\n",
    "numbers = [1, 2, 3, 4, 5]\n",
    "\n",
    "squares = list(map(squareMaker, numbers))\n",
    "\n",
    "print(squares)"
   ]
  },
  {
   "cell_type": "code",
   "execution_count": 5,
   "metadata": {},
   "outputs": [
    {
     "name": "stdout",
     "output_type": "stream",
     "text": [
      "120\n"
     ]
    }
   ],
   "source": [
    "#Reduce function apply the action in consequence elements in a list\n",
    "\n",
    "def multiplicationFunction(x, y):\n",
    "    return x * y\n",
    "\n",
    "from functools import reduce\n",
    "\n",
    "numbers = [1, 2, 3, 4, 5]\n",
    "\n",
    "mulOutput = reduce(multiplicationFunction, numbers)\n",
    "\n",
    "print(mulOutput)"
   ]
  },
  {
   "cell_type": "code",
   "execution_count": 7,
   "metadata": {},
   "outputs": [
    {
     "name": "stdout",
     "output_type": "stream",
     "text": [
      "Hello Jaber Your message: How are you?\n",
      "Hello Arif Your message: No message found\n"
     ]
    }
   ],
   "source": [
    "#Default Arguments\n",
    "\n",
    "def printer(name, message=\"No message found\"):\n",
    "    print('Hello ' + name + ' Your message: ' + message)\n",
    "    return;\n",
    "\n",
    "#call by using two arguments\n",
    "printer('Jaber', 'How are you?')\n",
    "\n",
    "#call by using one argument\n",
    "printer('Arif')"
   ]
  },
  {
   "cell_type": "code",
   "execution_count": 9,
   "metadata": {},
   "outputs": [
    {
     "name": "stdout",
     "output_type": "stream",
     "text": [
      "Hello Pream. Your message: How are you?\n"
     ]
    }
   ],
   "source": [
    "#Keyword Arguments: Allow to pass variable length of arguments\n",
    "\n",
    "def printer1(**kwargs):\n",
    "    if kwargs:\n",
    "        print('Hello ' + kwargs['name'] + '. Your message: ' + kwargs['message'])\n",
    "    return;\n",
    "\n",
    "printer1(name = 'Pream', message='How are you?')"
   ]
  },
  {
   "cell_type": "code",
   "execution_count": 10,
   "metadata": {},
   "outputs": [
    {
     "name": "stdout",
     "output_type": "stream",
     "text": [
      "Mahfuz\n",
      "Azhar\n",
      "Foysol\n",
      "Maha\n"
     ]
    }
   ],
   "source": [
    "#Arbitary Arguments\n",
    "\n",
    "def printer3(*names):\n",
    "    for name in names:\n",
    "        print(name)\n",
    "    return;\n",
    "\n",
    "printer3('Mahfuz', 'Azhar', 'Foysol', 'Maha')"
   ]
  },
  {
   "cell_type": "code",
   "execution_count": 15,
   "metadata": {},
   "outputs": [
    {
     "name": "stdout",
     "output_type": "stream",
     "text": [
      "factorial of 5 is = 120\n"
     ]
    }
   ],
   "source": [
    "#Recursion\n",
    "\n",
    "def factorial(n):\n",
    "    return 1 if n==1 else (n * factorial(n-1))\n",
    "\n",
    "n = 5\n",
    "print('factorial of {} is = {}'.format(n, factorial(n)))"
   ]
  },
  {
   "cell_type": "code",
   "execution_count": 22,
   "metadata": {},
   "outputs": [
    {
     "name": "stdout",
     "output_type": "stream",
     "text": [
      "[1, 4, 9, 16, 25]\n",
      "[1, 8, 27, 64, 125]\n"
     ]
    }
   ],
   "source": [
    "#Lambda Function\n",
    "\n",
    "square = lambda x: x**2 \n",
    "#here, square is the name of the function, x is input and x**2 is the return statement\n",
    "\n",
    "numbers = [1, 2, 3, 4, 5]\n",
    "\n",
    "squareNumber = list(map(square, numbers)) #here, I pass the name of the lambda function\n",
    "print(squareNumber)\n",
    "\n",
    "cubeNumber = list(map(lambda x: x**3, numbers)) #here, I write the lambda expression in the map function\n",
    "print(cubeNumber)"
   ]
  }
 ],
 "metadata": {
  "kernelspec": {
   "display_name": "Python 3",
   "language": "python",
   "name": "python3"
  },
  "language_info": {
   "codemirror_mode": {
    "name": "ipython",
    "version": 3
   },
   "file_extension": ".py",
   "mimetype": "text/x-python",
   "name": "python",
   "nbconvert_exporter": "python",
   "pygments_lexer": "ipython3",
   "version": "3.6.5"
  }
 },
 "nbformat": 4,
 "nbformat_minor": 2
}
