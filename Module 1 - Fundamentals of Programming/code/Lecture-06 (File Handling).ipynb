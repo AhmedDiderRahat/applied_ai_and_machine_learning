{
 "cells": [
  {
   "cell_type": "code",
   "execution_count": 19,
   "metadata": {},
   "outputs": [
    {
     "name": "stdout",
     "output_type": "stream",
     "text": [
      "My name is Rahat\n",
      "And I a not a data scientist\n"
     ]
    }
   ],
   "source": [
    "#Basically file handing has three major operation. 1) open, 2) read/write, and 3) close\n",
    "\n",
    "#File Open\n",
    "f = open('test.txt', 'w')\n",
    "\n",
    "f.write('My name is Rahat\\n')\n",
    "f.write('And I a not a data scientist')\n",
    "\n",
    "f.close()\n",
    "\n",
    "#File read\n",
    "f = open('test.txt', 'r')\n",
    "data = f.read()\n",
    "f.seek(0)\n",
    "f.close()\n",
    "\n",
    "print(data)"
   ]
  },
  {
   "cell_type": "code",
   "execution_count": 20,
   "metadata": {},
   "outputs": [
    {
     "name": "stdout",
     "output_type": "stream",
     "text": [
      "My name is Rahat\n",
      "And I a not a data scientist\n"
     ]
    }
   ],
   "source": [
    "#Rename a file\n",
    "\n",
    "import os\n",
    "\n",
    "os.rename('test.txt', 'my_text.txt')\n",
    "f = open('my_text.txt', 'r')\n",
    "print(f.read())\n",
    "f.close()"
   ]
  },
  {
   "cell_type": "code",
   "execution_count": 21,
   "metadata": {},
   "outputs": [],
   "source": [
    "#Remove a file\n",
    "\n",
    "os.remove('my_text.txt')"
   ]
  },
  {
   "cell_type": "code",
   "execution_count": 23,
   "metadata": {},
   "outputs": [
    {
     "name": "stdout",
     "output_type": "stream",
     "text": [
      "C:\\Users\\DELL\n"
     ]
    }
   ],
   "source": [
    "#Get Current Directory\n",
    "\n",
    "print(os.getcwd())"
   ]
  },
  {
   "cell_type": "code",
   "execution_count": 30,
   "metadata": {},
   "outputs": [],
   "source": [
    "#Change current working directory\n",
    "\n",
    "os.chdir(\"/Users/DELL/python_codes\")"
   ]
  },
  {
   "cell_type": "code",
   "execution_count": 31,
   "metadata": {},
   "outputs": [
    {
     "name": "stdout",
     "output_type": "stream",
     "text": [
      "C:\\Users\\DELL\\python_codes\n"
     ]
    }
   ],
   "source": [
    "print(os.getcwd())"
   ]
  }
 ],
 "metadata": {
  "kernelspec": {
   "display_name": "Python 3",
   "language": "python",
   "name": "python3"
  },
  "language_info": {
   "codemirror_mode": {
    "name": "ipython",
    "version": 3
   },
   "file_extension": ".py",
   "mimetype": "text/x-python",
   "name": "python",
   "nbconvert_exporter": "python",
   "pygments_lexer": "ipython3",
   "version": "3.6.5"
  }
 },
 "nbformat": 4,
 "nbformat_minor": 2
}
