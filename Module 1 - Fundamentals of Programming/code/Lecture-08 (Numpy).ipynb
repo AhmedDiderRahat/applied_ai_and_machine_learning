{
 "cells": [
  {
   "cell_type": "code",
   "execution_count": 1,
   "metadata": {},
   "outputs": [],
   "source": [
    "#Numpy is an array like data structure used to calculate complex scientific operations\n",
    "\n",
    "import numpy as np"
   ]
  },
  {
   "cell_type": "code",
   "execution_count": 2,
   "metadata": {},
   "outputs": [
    {
     "name": "stdout",
     "output_type": "stream",
     "text": [
      "[1 7 5 2 8]\n"
     ]
    }
   ],
   "source": [
    "#Initialize numpy with list\n",
    "\n",
    "a = np.array([1, 7, 5, 2, 8])\n",
    "print(a)"
   ]
  },
  {
   "cell_type": "code",
   "execution_count": 3,
   "metadata": {},
   "outputs": [
    {
     "name": "stdout",
     "output_type": "stream",
     "text": [
      "[0 1 2 3 4 5 6 7 8 9]\n"
     ]
    }
   ],
   "source": [
    "#Initialize numpy with arange function\n",
    "\n",
    "a = np.arange(10)\n",
    "print(a)"
   ]
  },
  {
   "cell_type": "code",
   "execution_count": 4,
   "metadata": {},
   "outputs": [
    {
     "name": "stdout",
     "output_type": "stream",
     "text": [
      "300 µs ± 25.9 µs per loop (mean ± std. dev. of 7 runs, 1000 loops each)\n"
     ]
    }
   ],
   "source": [
    "#Numpy VS list Comperison\n",
    "\n",
    "L = range(1000)\n",
    "%timeit([i**2 for i in L])"
   ]
  },
  {
   "cell_type": "code",
   "execution_count": 5,
   "metadata": {},
   "outputs": [
    {
     "name": "stdout",
     "output_type": "stream",
     "text": [
      "1.01 µs ± 7.65 ns per loop (mean ± std. dev. of 7 runs, 1000000 loops each)\n"
     ]
    }
   ],
   "source": [
    "a = np.arange(1000)\n",
    "%timeit a**2"
   ]
  },
  {
   "cell_type": "code",
   "execution_count": 6,
   "metadata": {},
   "outputs": [],
   "source": [
    "#Here, numpy execute takes less then 1 micro-seconds, while list operation takes 271 micro-seconds"
   ]
  },
  {
   "cell_type": "code",
   "execution_count": 7,
   "metadata": {},
   "outputs": [
    {
     "name": "stdout",
     "output_type": "stream",
     "text": [
      "[5 1 7 6 4]\n"
     ]
    }
   ],
   "source": [
    "#Numpy array creation\n",
    "\n",
    "#1-D array\n",
    "\n",
    "a = np.array([5, 1, 7, 6, 4])\n",
    "print(a)"
   ]
  },
  {
   "cell_type": "code",
   "execution_count": 8,
   "metadata": {},
   "outputs": [
    {
     "data": {
      "text/plain": [
       "1"
      ]
     },
     "execution_count": 8,
     "metadata": {},
     "output_type": "execute_result"
    }
   ],
   "source": [
    "#Array Dimension\n",
    "\n",
    "a.ndim"
   ]
  },
  {
   "cell_type": "code",
   "execution_count": 9,
   "metadata": {},
   "outputs": [
    {
     "data": {
      "text/plain": [
       "(5,)"
      ]
     },
     "execution_count": 9,
     "metadata": {},
     "output_type": "execute_result"
    }
   ],
   "source": [
    "#Array Shape: Always return the dimensions\n",
    "\n",
    "a.shape"
   ]
  },
  {
   "cell_type": "code",
   "execution_count": 10,
   "metadata": {},
   "outputs": [
    {
     "name": "stdout",
     "output_type": "stream",
     "text": [
      "Array=[[1 3 5]\n",
      " [2 4 6]]\n",
      "Dimension= 2\n",
      "Shape= (2, 3)\n"
     ]
    }
   ],
   "source": [
    "#2-D Array\n",
    "\n",
    "b = np.array([[1, 3, 5], [2, 4, 6]])\n",
    "\n",
    "print('Array='+ str(b))\n",
    "print('Dimension= ' + str(b.ndim))\n",
    "print('Shape= ' + str(b.shape))"
   ]
  },
  {
   "cell_type": "code",
   "execution_count": 11,
   "metadata": {},
   "outputs": [
    {
     "name": "stdout",
     "output_type": "stream",
     "text": [
      "Array=[[[4 7 6 1]\n",
      "  [9 2 5 7]\n",
      "  [1 0 7 9]]\n",
      "\n",
      " [[1 3 5 7]\n",
      "  [4 6 8 0]\n",
      "  [4 5 8 9]]]\n",
      "Dimension= 3\n",
      "Shape= (2, 3, 4)\n"
     ]
    }
   ],
   "source": [
    "#3-D Array\n",
    "\n",
    "c = np.array([[[4, 7, 6, 1], [9, 2, 5, 7], [1, 0, 7, 9]], [[1, 3, 5, 7], [4, 6, 8, 0], [4, 5, 8, 9]]])\n",
    "\n",
    "print('Array='+ str(c))\n",
    "print('Dimension= ' + str(c.ndim))\n",
    "print('Shape= ' + str(c.shape))"
   ]
  },
  {
   "cell_type": "code",
   "execution_count": 12,
   "metadata": {},
   "outputs": [
    {
     "name": "stdout",
     "output_type": "stream",
     "text": [
      "[0 1 2 3 4 5 6 7 8 9]\n"
     ]
    }
   ],
   "source": [
    "#Creating numpy arrays: using arange function\n",
    "\n",
    "#with 1 parement n -> array = [0, n-1]\n",
    "arr = np.arange(10)\n",
    "print(arr)"
   ]
  },
  {
   "cell_type": "code",
   "execution_count": 13,
   "metadata": {},
   "outputs": [
    {
     "name": "stdout",
     "output_type": "stream",
     "text": [
      "[3 4 5 6 7 8 9]\n"
     ]
    }
   ],
   "source": [
    "#with 2 parement (start, end) -> array = [start to end-1 with uniform stem size=1]\n",
    "arr = np.arange(3, 10)\n",
    "print(arr)"
   ]
  },
  {
   "cell_type": "code",
   "execution_count": 14,
   "metadata": {},
   "outputs": [
    {
     "name": "stdout",
     "output_type": "stream",
     "text": [
      "[5 7 9]\n"
     ]
    }
   ],
   "source": [
    "#with 3 parement (start, end, step) -> array = [start to end-1 with step size]\n",
    "arr = np.arange(5, 10, 2)\n",
    "print(arr)"
   ]
  },
  {
   "cell_type": "code",
   "execution_count": 15,
   "metadata": {},
   "outputs": [
    {
     "name": "stdout",
     "output_type": "stream",
     "text": [
      "[0.   0.25 0.5  0.75 1.  ]\n"
     ]
    }
   ],
   "source": [
    "#Creating numpy arrays: using linespace function paremeter(start, end, break-point)\n",
    "\n",
    "arr = np.linspace(0, 1, 5)\n",
    "print(arr)"
   ]
  },
  {
   "cell_type": "code",
   "execution_count": 16,
   "metadata": {},
   "outputs": [
    {
     "data": {
      "text/plain": [
       "array([[1., 1., 1.],\n",
       "       [1., 1., 1.],\n",
       "       [1., 1., 1.]])"
      ]
     },
     "execution_count": 16,
     "metadata": {},
     "output_type": "execute_result"
    }
   ],
   "source": [
    "#Creating ones array\n",
    "\n",
    "arr = np.ones((3, 3)) #dimension\n",
    "\n",
    "arr"
   ]
  },
  {
   "cell_type": "code",
   "execution_count": 17,
   "metadata": {},
   "outputs": [
    {
     "data": {
      "text/plain": [
       "array([[0., 0., 0.],\n",
       "       [0., 0., 0.],\n",
       "       [0., 0., 0.]])"
      ]
     },
     "execution_count": 17,
     "metadata": {},
     "output_type": "execute_result"
    }
   ],
   "source": [
    "#Creating ones array\n",
    "\n",
    "arr = np.zeros((3, 3)) #dimension\n",
    "\n",
    "arr"
   ]
  },
  {
   "cell_type": "code",
   "execution_count": 18,
   "metadata": {},
   "outputs": [
    {
     "data": {
      "text/plain": [
       "array([[1., 0., 0.],\n",
       "       [0., 1., 0.],\n",
       "       [0., 0., 1.]])"
      ]
     },
     "execution_count": 18,
     "metadata": {},
     "output_type": "execute_result"
    }
   ],
   "source": [
    "#Creating identity matrix (n, m) with n rows and m columns\n",
    "\n",
    "arr = np.eye(3, 3)\n",
    "\n",
    "arr"
   ]
  },
  {
   "cell_type": "code",
   "execution_count": 19,
   "metadata": {},
   "outputs": [
    {
     "data": {
      "text/plain": [
       "array([[7, 0, 0, 0],\n",
       "       [0, 5, 0, 0],\n",
       "       [0, 0, 6, 0],\n",
       "       [0, 0, 0, 1]])"
      ]
     },
     "execution_count": 19,
     "metadata": {},
     "output_type": "execute_result"
    }
   ],
   "source": [
    "#Creating diagonal matrix ([n1, n2, n3, ... nt]) with t diagonal values\n",
    "\n",
    "arr = np.diag([7, 5, 6, 1])\n",
    "\n",
    "arr"
   ]
  },
  {
   "cell_type": "code",
   "execution_count": 20,
   "metadata": {},
   "outputs": [
    {
     "name": "stdout",
     "output_type": "stream",
     "text": [
      "[0.88846198 0.17143381 0.45960649 0.28555434 0.64015709]\n",
      "[-2.12660396  0.28841956  0.51255777  1.24473773  0.40968247]\n"
     ]
    }
   ],
   "source": [
    "#Creating random array\n",
    "\n",
    "#for unifor random variable we use: rand(n)\n",
    "\n",
    "arr = np.random.rand(5)\n",
    "print(arr)\n",
    "\n",
    "#for standard normal variant we use: randn(n)\n",
    "brr = np.random.randn(5)\n",
    "print(brr)"
   ]
  },
  {
   "cell_type": "code",
   "execution_count": 21,
   "metadata": {},
   "outputs": [
    {
     "name": "stdout",
     "output_type": "stream",
     "text": [
      "int32\n"
     ]
    }
   ],
   "source": [
    "#Basic Data types of numpy\n",
    "\n",
    "arr = np.arange(10)\n",
    "\n",
    "print(arr.dtype) #get the data type using dtype function"
   ]
  },
  {
   "cell_type": "code",
   "execution_count": 22,
   "metadata": {},
   "outputs": [
    {
     "name": "stdout",
     "output_type": "stream",
     "text": [
      "[0. 1. 2. 3. 4. 5. 6. 7. 8. 9.]\n"
     ]
    }
   ],
   "source": [
    "arr = np.arange(10, dtype='float64')\n",
    "print(arr)"
   ]
  },
  {
   "cell_type": "code",
   "execution_count": 23,
   "metadata": {},
   "outputs": [
    {
     "name": "stdout",
     "output_type": "stream",
     "text": [
      "[0 1 2 3 4 5 6 7 8 9]\n",
      "5\n"
     ]
    }
   ],
   "source": [
    "#Array Accessing from numpy\n",
    "\n",
    "#1-D array\n",
    "\n",
    "arr = np.arange(10)\n",
    "\n",
    "print(arr)\n",
    "print(arr[5])"
   ]
  },
  {
   "cell_type": "code",
   "execution_count": 24,
   "metadata": {},
   "outputs": [
    {
     "name": "stdout",
     "output_type": "stream",
     "text": [
      "[[1 2 3]\n",
      " [4 5 7]]\n",
      "7\n"
     ]
    }
   ],
   "source": [
    "#2-D array\n",
    "\n",
    "arr = np.array([[1, 2, 3], [4, 5, 7]])\n",
    "\n",
    "print(arr)\n",
    "print(arr[1][2])"
   ]
  },
  {
   "cell_type": "code",
   "execution_count": 25,
   "metadata": {},
   "outputs": [
    {
     "name": "stdout",
     "output_type": "stream",
     "text": [
      "Original Array= [0 1 2 3 4 5 6 7 8 9]\n",
      "Modified Array= [2 5 8]\n"
     ]
    }
   ],
   "source": [
    "#Slicing numpy array\n",
    "\n",
    "arr = np.arange(10)\n",
    "\n",
    "print('Original Array= ', end='')\n",
    "print(arr)\n",
    "\n",
    "brr = arr[2:10:3] #here, arr[s:e:ss] means: s=start, e=end, and ss=step size\n",
    "print('Modified Array= ', end='')\n",
    "print(brr)"
   ]
  },
  {
   "cell_type": "code",
   "execution_count": 26,
   "metadata": {},
   "outputs": [
    {
     "name": "stdout",
     "output_type": "stream",
     "text": [
      "Old Array= [0 1 2 3 4 5 6 7 8 9]\n",
      "New Array= [ 0  1  2  3  4 -7 -7 -7 -7 -7]\n"
     ]
    }
   ],
   "source": [
    "#Assignment and slicing\n",
    "\n",
    "arr = np.arange(10)\n",
    "\n",
    "print('Old Array= ', end='')\n",
    "print(arr)\n",
    "\n",
    "#here, we assign -7 from 5 to rest of the index\n",
    "arr[5:] = -7 \n",
    "\n",
    "print('New Array= ', end='')\n",
    "print(arr)"
   ]
  },
  {
   "cell_type": "code",
   "execution_count": 27,
   "metadata": {},
   "outputs": [
    {
     "name": "stdout",
     "output_type": "stream",
     "text": [
      "Old Array= [0 1 2 3 4]\n",
      "New Array= [4 3 2 1 0]\n"
     ]
    }
   ],
   "source": [
    "#Assigment in reverse order\n",
    "\n",
    "arr = np.arange(5)\n",
    "print('Old Array= ', end='')\n",
    "print(arr)\n",
    "\n",
    "brr = arr[::-1]\n",
    "print('New Array= ', end='')\n",
    "print(brr)"
   ]
  },
  {
   "cell_type": "code",
   "execution_count": 28,
   "metadata": {},
   "outputs": [
    {
     "name": "stdout",
     "output_type": "stream",
     "text": [
      "Array a= [0 1 2 3 4 5 6 7 8 9]\n",
      "Array b= [0 2 4 6 8]\n",
      "\n",
      "Array a= [8 1 2 3 4 5 6 7 8 9]\n",
      "Array b= [8 2 4 6 8]\n",
      "\n",
      "a and b shared memory: True\n"
     ]
    }
   ],
   "source": [
    "#Slicing share the memory. So if we update the slice part it also modify the main array\n",
    "\n",
    "a = np.arange(10)\n",
    "b = a[::2]\n",
    "\n",
    "print('Array a= ' + str(a))\n",
    "print('Array b= ' + str(b))\n",
    "\n",
    "#here, we assign 8 in the 0th index of b. and see the result\n",
    "\n",
    "b[0] = 8\n",
    "\n",
    "print()\n",
    "print('Array a= ' + str(a))\n",
    "print('Array b= ' + str(b))\n",
    "\n",
    "\"\"\"This happend because of the memory share between slicing part and main part. Th check memory share we use the following technique\"\"\"\n",
    "\n",
    "print('\\na and b shared memory: {}'.format(np.shares_memory(a,b)))"
   ]
  },
  {
   "cell_type": "code",
   "execution_count": 29,
   "metadata": {},
   "outputs": [
    {
     "name": "stdout",
     "output_type": "stream",
     "text": [
      "Array a= [0 1 2 3 4 5 6 7 8 9]\n",
      "Array b= [0 2 4 6 8]\n",
      "\n",
      "Array a= [0 1 2 3 4 5 6 7 8 9]\n",
      "Array b= [8 2 4 6 8]\n",
      "\n",
      "a and b shared memory: False\n"
     ]
    }
   ],
   "source": [
    "#We can use copy to eleminate memory sharing\n",
    "\n",
    "a = np.arange(10)\n",
    "b = a[::2].copy()\n",
    "\n",
    "print('Array a= ' + str(a))\n",
    "print('Array b= ' + str(b))\n",
    "\n",
    "#here, we assign 8 in the 0th index of b. and see the result\n",
    "\n",
    "b[0] = 8\n",
    "\n",
    "print()\n",
    "print('Array a= ' + str(a))\n",
    "print('Array b= ' + str(b))\n",
    "\n",
    "\"\"\"Here, no memory will share between slicing part and main part\"\"\"\n",
    "\n",
    "print('\\na and b shared memory: {}'.format(np.shares_memory(a,b)))"
   ]
  },
  {
   "cell_type": "code",
   "execution_count": 30,
   "metadata": {},
   "outputs": [
    {
     "name": "stdout",
     "output_type": "stream",
     "text": [
      "Old array= [17 19  4  9  5 16  2  8 11 14 11  6 16 18  2]\n",
      "New array= [ 4 16  2  8 14  6 16 18  2]\n"
     ]
    }
   ],
   "source": [
    "#Fancy Indexing: copy from the main part. So, memory share not possible\n",
    "\n",
    "a = np.random.randint(0, 20, 15) #randint(s, e, n) return a sequence of random numbers which is 0<randNumber<20 and the length of sequence is n.\n",
    "print('Old array= ' + str(a))\n",
    "\n",
    "mask = (a%2 == 0)\n",
    "b = a[mask]\n",
    "\n",
    "print('New array= ' + str(b))"
   ]
  },
  {
   "cell_type": "code",
   "execution_count": 31,
   "metadata": {},
   "outputs": [
    {
     "name": "stdout",
     "output_type": "stream",
     "text": [
      "Old arr= [2 6 1 3 8]\n",
      "New arr= [3 7 2 4 9]\n"
     ]
    }
   ],
   "source": [
    "#Numpy Operations: Elementwise operation\n",
    "\n",
    "#Basic Operation\n",
    "\n",
    "arr = np.array([2, 6, 1, 3, 8])\n",
    "\n",
    "print('Old arr= ' + str(arr))\n",
    "\n",
    "brr = arr + 1 #here, we add 1 to each elements of arr\n",
    "\n",
    "print('New arr= ' + str(brr))"
   ]
  },
  {
   "cell_type": "code",
   "execution_count": 32,
   "metadata": {},
   "outputs": [
    {
     "name": "stdout",
     "output_type": "stream",
     "text": [
      "[-1.  0.  1.  2.]\n"
     ]
    }
   ],
   "source": [
    "a = np.array([1, 2, 3, 4])\n",
    "\n",
    "b = np.ones(4) + 1\n",
    "\n",
    "print(a-b) #here, a-b operation done in every elements of a and b"
   ]
  },
  {
   "cell_type": "code",
   "execution_count": 33,
   "metadata": {},
   "outputs": [
    {
     "ename": "ValueError",
     "evalue": "operands could not be broadcast together with shapes (4,) (5,) ",
     "output_type": "error",
     "traceback": [
      "\u001b[1;31m---------------------------------------------------------------------------\u001b[0m",
      "\u001b[1;31mValueError\u001b[0m                                Traceback (most recent call last)",
      "\u001b[1;32m<ipython-input-33-0efba91f9fa4>\u001b[0m in \u001b[0;36m<module>\u001b[1;34m()\u001b[0m\n\u001b[0;32m      1\u001b[0m \u001b[0mc\u001b[0m \u001b[1;33m=\u001b[0m \u001b[0mnp\u001b[0m\u001b[1;33m.\u001b[0m\u001b[0mones\u001b[0m\u001b[1;33m(\u001b[0m\u001b[1;36m5\u001b[0m\u001b[1;33m)\u001b[0m\u001b[1;33m\u001b[0m\u001b[0m\n\u001b[0;32m      2\u001b[0m \u001b[1;33m\u001b[0m\u001b[0m\n\u001b[1;32m----> 3\u001b[1;33m \u001b[0mprint\u001b[0m\u001b[1;33m(\u001b[0m\u001b[0ma\u001b[0m\u001b[1;33m-\u001b[0m\u001b[0mc\u001b[0m\u001b[1;33m)\u001b[0m \u001b[1;31m#elementwise operation must place with same shape\u001b[0m\u001b[1;33m\u001b[0m\u001b[0m\n\u001b[0m",
      "\u001b[1;31mValueError\u001b[0m: operands could not be broadcast together with shapes (4,) (5,) "
     ]
    }
   ],
   "source": [
    "c = np.ones(5)\n",
    "\n",
    "print(a-c) #elementwise operation must place with same shape"
   ]
  },
  {
   "cell_type": "code",
   "execution_count": 34,
   "metadata": {},
   "outputs": [
    {
     "name": "stdout",
     "output_type": "stream",
     "text": [
      "[[1 0 0]\n",
      " [0 3 0]\n",
      " [0 0 5]]\n",
      "\n",
      "[[3. 3. 3.]\n",
      " [3. 3. 3.]\n",
      " [3. 3. 3.]]\n",
      "\n",
      "The matrix multiplication of a and b is: \n",
      "[[ 3.  0.  0.]\n",
      " [ 0.  9.  0.]\n",
      " [ 0.  0. 15.]]\n"
     ]
    }
   ],
   "source": [
    "#Matrix Multiplication\n",
    "\n",
    "a = np.diag([1, 3, 5])\n",
    "b = np.ones((3,3)) + 2\n",
    "\n",
    "print(a)\n",
    "print()\n",
    "print(b)\n",
    "\n",
    "print('\\nThe matrix multiplication of a and b is: ')\n",
    "print(a * b) #same operation can be done by a.dot(b)"
   ]
  },
  {
   "cell_type": "code",
   "execution_count": 35,
   "metadata": {},
   "outputs": [
    {
     "name": "stdout",
     "output_type": "stream",
     "text": [
      "[False  True False  True]\n"
     ]
    }
   ],
   "source": [
    "a = np.array([1, 2, 3, 4])\n",
    "b = np.array([7, 2, 2, 4])\n",
    "\n",
    "print(a==b)"
   ]
  },
  {
   "cell_type": "code",
   "execution_count": 36,
   "metadata": {},
   "outputs": [
    {
     "name": "stdout",
     "output_type": "stream",
     "text": [
      "False\n"
     ]
    }
   ],
   "source": [
    "#Array_equal check two array is elementwise same or not\n",
    "print(np.array_equal(a,b))"
   ]
  },
  {
   "cell_type": "code",
   "execution_count": 37,
   "metadata": {},
   "outputs": [
    {
     "name": "stdout",
     "output_type": "stream",
     "text": [
      "[False  True  True  True]\n",
      "\n",
      "[False False False  True]\n"
     ]
    }
   ],
   "source": [
    "#Logical Operators\n",
    "\n",
    "a = np.array([0, 0, 1, 1], dtype=bool)\n",
    "b = np.array([0, 1, 0, 1], dtype=bool)\n",
    "\n",
    "print(np.logical_or(a, b))\n",
    "print()\n",
    "print(np.logical_and(a, b))"
   ]
  },
  {
   "cell_type": "code",
   "execution_count": 38,
   "metadata": {},
   "outputs": [
    {
     "name": "stdout",
     "output_type": "stream",
     "text": [
      "[0.    0.5   0.707 0.866 1.   ]\n",
      "[1.    0.866 0.707 0.5   0.   ]\n"
     ]
    }
   ],
   "source": [
    "#Mathematical functions\n",
    "\n",
    "a = (np.array([0., 30., 45., 60., 90.]) * np.pi / 180.) #angle should be in radian\n",
    "\n",
    "print(np.round(np.sin(a),3)) #sin function\n",
    "print(np.round(np.cos(a),3)) #cos function"
   ]
  },
  {
   "cell_type": "code",
   "execution_count": 39,
   "metadata": {},
   "outputs": [
    {
     "name": "stdout",
     "output_type": "stream",
     "text": [
      "[ 1.          2.71828183  7.3890561  20.08553692 54.59815003]\n"
     ]
    }
   ],
   "source": [
    "a = np.arange(5)\n",
    "\n",
    "print(np.exp(a)) #here, exp in e^x in math"
   ]
  },
  {
   "cell_type": "code",
   "execution_count": 40,
   "metadata": {},
   "outputs": [
    {
     "name": "stdout",
     "output_type": "stream",
     "text": [
      "10\n"
     ]
    }
   ],
   "source": [
    "#Basic reduction functions\n",
    "\n",
    "x = np.array([1, 2, 3, 4])\n",
    "print(np.sum(x))"
   ]
  },
  {
   "cell_type": "code",
   "execution_count": 41,
   "metadata": {},
   "outputs": [
    {
     "name": "stdout",
     "output_type": "stream",
     "text": [
      "Sum of all elements:  10\n",
      "Sum of all columns :  [4 6]\n",
      "Sum of all rows    :  [3 7]\n"
     ]
    }
   ],
   "source": [
    "#exmples of sum functions\n",
    "\n",
    "x = np.array([[1, 2], [3, 4]])\n",
    "\n",
    "print('Sum of all elements: ', x.sum())\n",
    "print('Sum of all columns : ', x.sum(axis=0)) #summation of all columns, when axis = 0\n",
    "print('Sum of all rows    : ', x.sum(axis=1)) #summation of all rows, when axis = 1"
   ]
  },
  {
   "cell_type": "code",
   "execution_count": 42,
   "metadata": {},
   "outputs": [
    {
     "name": "stdout",
     "output_type": "stream",
     "text": [
      "Minimum of all elements:  1\n",
      "Minimum of all columns :  [1 2]\n",
      "Minimum of all rows    :  [1 3]\n"
     ]
    }
   ],
   "source": [
    "#exmples of min functions\n",
    "\n",
    "x = np.array([[1, 2], [3, 4]])\n",
    "\n",
    "print('Minimum of all elements: ', x.min())\n",
    "print('Minimum of all columns : ', x.min(axis=0)) #minimum of all columns, when axis = 0\n",
    "print('Minimum of all rows    : ', x.min(axis=1)) #minimum of all rows, when axis = 1"
   ]
  },
  {
   "cell_type": "code",
   "execution_count": 43,
   "metadata": {},
   "outputs": [
    {
     "name": "stdout",
     "output_type": "stream",
     "text": [
      "Index 1 hold minimum value\n",
      "Index 4 hold maximum value\n"
     ]
    }
   ],
   "source": [
    "#max function also work same as min. Now we have another two functions. one is argmin(), and another is argmax()\n",
    "\n",
    "x = np.array([7, -2, 2, 1, 9, 0])\n",
    "\n",
    "print('Index {} hold minimum value'. format(np.argmin(x)))\n",
    "print('Index {} hold maximum value'. format(np.argmax(x)))"
   ]
  },
  {
   "cell_type": "code",
   "execution_count": 44,
   "metadata": {},
   "outputs": [
    {
     "name": "stdout",
     "output_type": "stream",
     "text": [
      "Mean of all elements:  3.5\n",
      "Mean of all columns :  [1.5 3.5 5.5]\n",
      "Mean of all rows    :  [3. 4.]\n"
     ]
    }
   ],
   "source": [
    "#Statistical Functions\n",
    "\n",
    "#mean function\n",
    "\n",
    "x = np.array([[1, 3, 5], [2, 4, 6]])\n",
    "print('Mean of all elements: ', x.mean())\n",
    "print('Mean of all columns : ', x.mean(axis=0)) #minimum of all columns, when axis = 0\n",
    "print('Mean of all rows    : ', x.mean(axis=1)) #minimum of all rows, when axis = 1"
   ]
  },
  {
   "cell_type": "code",
   "execution_count": 45,
   "metadata": {},
   "outputs": [
    {
     "name": "stdout",
     "output_type": "stream",
     "text": [
      "Median of all elements:  3.5\n",
      "Standard deviation of all elements:  1.707825127659933\n"
     ]
    }
   ],
   "source": [
    "'''The function median() and std() work for median and standard deviation'''\n",
    "x = np.array([[1, 3, 5], [2, 4, 6]])\n",
    "\n",
    "print('Median of all elements: ', np.median(x))\n",
    "print('Standard deviation of all elements: ', x.std())"
   ]
  },
  {
   "cell_type": "code",
   "execution_count": 46,
   "metadata": {},
   "outputs": [
    {
     "name": "stdout",
     "output_type": "stream",
     "text": [
      "[[ 1900. 30000.  4000. 48300.]\n",
      " [ 1901. 47200.  6100. 48200.]\n",
      " [ 1902. 70200.  9800. 41500.]\n",
      " [ 1903. 77400. 35200. 38200.]\n",
      " [ 1904. 36300. 59400. 40600.]\n",
      " [ 1905. 20600. 41700. 39800.]\n",
      " [ 1906. 18100. 19000. 38600.]\n",
      " [ 1907. 21400. 13000. 42300.]\n",
      " [ 1908. 22000.  8300. 44500.]\n",
      " [ 1909. 25400.  9100. 42100.]\n",
      " [ 1910. 27100.  7400. 46000.]\n",
      " [ 1911. 40300.  8000. 46800.]\n",
      " [ 1912. 57000. 12300. 43800.]\n",
      " [ 1913. 76600. 19500. 40900.]\n",
      " [ 1914. 52300. 45700. 39400.]\n",
      " [ 1915. 19500. 51100. 39000.]\n",
      " [ 1916. 11200. 29700. 36700.]\n",
      " [ 1917.  7600. 15800. 41800.]\n",
      " [ 1918. 14600.  9700. 43300.]\n",
      " [ 1919. 16200. 10100. 41300.]\n",
      " [ 1920. 24700.  8600. 47300.]]\n"
     ]
    }
   ],
   "source": [
    "#load data from text file in numpy array\n",
    "import os\n",
    "\n",
    "data = np.loadtxt('D:\\Development\\Applied AI and Machine Learning\\Codes\\populations.txt')\n",
    "\n",
    "print(data)"
   ]
  },
  {
   "cell_type": "code",
   "execution_count": 47,
   "metadata": {},
   "outputs": [
    {
     "name": "stdout",
     "output_type": "stream",
     "text": [
      "[1900. 1901. 1902. 1903. 1904. 1905. 1906. 1907. 1908. 1909. 1910. 1911.\n",
      " 1912. 1913. 1914. 1915. 1916. 1917. 1918. 1919. 1920.]\n"
     ]
    }
   ],
   "source": [
    "#Initialize all the variables form the data\n",
    "\n",
    "year, hare, lynx, carrot = data.T\n",
    "\n",
    "print(year)"
   ]
  },
  {
   "cell_type": "code",
   "execution_count": 48,
   "metadata": {},
   "outputs": [
    {
     "name": "stdout",
     "output_type": "stream",
     "text": [
      "[[30000.  4000. 48300.]\n",
      " [47200.  6100. 48200.]\n",
      " [70200.  9800. 41500.]\n",
      " [77400. 35200. 38200.]\n",
      " [36300. 59400. 40600.]\n",
      " [20600. 41700. 39800.]\n",
      " [18100. 19000. 38600.]\n",
      " [21400. 13000. 42300.]\n",
      " [22000.  8300. 44500.]\n",
      " [25400.  9100. 42100.]\n",
      " [27100.  7400. 46000.]\n",
      " [40300.  8000. 46800.]\n",
      " [57000. 12300. 43800.]\n",
      " [76600. 19500. 40900.]\n",
      " [52300. 45700. 39400.]\n",
      " [19500. 51100. 39000.]\n",
      " [11200. 29700. 36700.]\n",
      " [ 7600. 15800. 41800.]\n",
      " [14600.  9700. 43300.]\n",
      " [16200. 10100. 41300.]\n",
      " [24700.  8600. 47300.]]\n"
     ]
    }
   ],
   "source": [
    "#Get only the population data\n",
    "\n",
    "populations = data[:, 1:]\n",
    "print(populations)"
   ]
  },
  {
   "cell_type": "code",
   "execution_count": 49,
   "metadata": {},
   "outputs": [
    {
     "name": "stdout",
     "output_type": "stream",
     "text": [
      "[20897.90645809 16254.59153691  3322.50622558]\n"
     ]
    }
   ],
   "source": [
    "#Standard deviations of all the specises\n",
    "\n",
    "print(populations.std(axis=0))"
   ]
  },
  {
   "cell_type": "code",
   "execution_count": 50,
   "metadata": {},
   "outputs": [
    {
     "name": "stdout",
     "output_type": "stream",
     "text": [
      "[2 2 0 0 1 1 2 2 2 2 2 2 0 0 0 1 2 2 2 2 2]\n"
     ]
    }
   ],
   "source": [
    "#Whic specises has maximum population in the given years\n",
    "\n",
    "max_population = np.argmax(populations, axis=1)\n",
    "\n",
    "print(max_population)"
   ]
  },
  {
   "cell_type": "code",
   "execution_count": 51,
   "metadata": {},
   "outputs": [
    {
     "name": "stdout",
     "output_type": "stream",
     "text": [
      "Original Array= [ 0 10 20 30]\n"
     ]
    }
   ],
   "source": [
    "#Broadcasting\n",
    "\n",
    "a = np.arange(0, 40, 10)\n",
    "print('Original Array= ' + str(a))"
   ]
  },
  {
   "cell_type": "code",
   "execution_count": 52,
   "metadata": {},
   "outputs": [
    {
     "name": "stdout",
     "output_type": "stream",
     "text": [
      "New Array= \n",
      " [[ 0 10 20 30]\n",
      " [ 0 10 20 30]\n",
      " [ 0 10 20 30]]\n"
     ]
    }
   ],
   "source": [
    "#replicate same value of the row in 3 times\n",
    "\n",
    "b = np.tile(a, (3,1))\n",
    "print('New Array= \\n', b)"
   ]
  },
  {
   "cell_type": "code",
   "execution_count": 53,
   "metadata": {},
   "outputs": [
    {
     "name": "stdout",
     "output_type": "stream",
     "text": [
      "Transpose matrix= \n",
      " [[ 0  0  0]\n",
      " [10 10 10]\n",
      " [20 20 20]\n",
      " [30 30 30]]\n"
     ]
    }
   ],
   "source": [
    "#transpose the matrix\n",
    "\n",
    "c = b.T\n",
    "print('Transpose matrix= \\n', c)"
   ]
  },
  {
   "cell_type": "code",
   "execution_count": 54,
   "metadata": {},
   "outputs": [
    {
     "name": "stdout",
     "output_type": "stream",
     "text": [
      "[[ 0  1  2]\n",
      " [10 11 12]\n",
      " [20 21 22]\n",
      " [30 31 32]]\n"
     ]
    }
   ],
   "source": [
    "d = np.array([0, 1, 2])\n",
    "\n",
    "e = c+d #here, c and d doesn't have same number of row. But the column number is same.\n",
    "\n",
    "print(e)"
   ]
  },
  {
   "cell_type": "code",
   "execution_count": 55,
   "metadata": {},
   "outputs": [
    {
     "name": "stdout",
     "output_type": "stream",
     "text": [
      "a =  [ 0 10 20 30]\n"
     ]
    }
   ],
   "source": [
    "a = np.arange(0, 40, 10)\n",
    "\n",
    "print('a = ', a)"
   ]
  },
  {
   "cell_type": "code",
   "execution_count": 56,
   "metadata": {},
   "outputs": [
    {
     "name": "stdout",
     "output_type": "stream",
     "text": [
      "Shape of a=  (4,)\n",
      "Shape of a=  (4, 1)\n"
     ]
    }
   ],
   "source": [
    "print('Shape of a= ', a.shape)\n",
    "\n",
    "a = a[:, np.newaxis]\n",
    "print('Shape of a= ', a.shape)"
   ]
  },
  {
   "cell_type": "code",
   "execution_count": 57,
   "metadata": {},
   "outputs": [
    {
     "name": "stdout",
     "output_type": "stream",
     "text": [
      "a =  [[ 0]\n",
      " [10]\n",
      " [20]\n",
      " [30]]\n"
     ]
    }
   ],
   "source": [
    "print('a = ', a)"
   ]
  },
  {
   "cell_type": "code",
   "execution_count": 58,
   "metadata": {},
   "outputs": [
    {
     "name": "stdout",
     "output_type": "stream",
     "text": [
      "[[ 0  1  2]\n",
      " [10 11 12]\n",
      " [20 21 22]\n",
      " [30 31 32]]\n"
     ]
    }
   ],
   "source": [
    "b = np.array([0, 1, 2])\n",
    "\n",
    "print(a+b)"
   ]
  },
  {
   "cell_type": "code",
   "execution_count": 59,
   "metadata": {},
   "outputs": [
    {
     "data": {
      "text/plain": [
       "'if we want to add two differnt shape array. At first we have to transform the first matrix 2D from 1D'"
      ]
     },
     "execution_count": 59,
     "metadata": {},
     "output_type": "execute_result"
    }
   ],
   "source": [
    "'''if we want to add two differnt shape array. At first we have to transform the first matrix 2D from 1D'''"
   ]
  },
  {
   "cell_type": "code",
   "execution_count": 60,
   "metadata": {},
   "outputs": [],
   "source": [
    "#Array Shape manipulation"
   ]
  },
  {
   "cell_type": "code",
   "execution_count": 61,
   "metadata": {},
   "outputs": [
    {
     "name": "stdout",
     "output_type": "stream",
     "text": [
      "Old array=\n",
      " [[1 3 5]\n",
      " [2 4 6]]\n",
      "\n",
      "New array=  [1 3 5 2 4 6]\n"
     ]
    }
   ],
   "source": [
    "#Flattening: Change a 2D matrix to a single stright line\n",
    "\n",
    "a = np.array([[1, 3, 5], [2, 4, 6]])\n",
    "print('Old array=\\n', a)\n",
    "\n",
    "b = a.ravel()\n",
    "print('\\nNew array= ', b)"
   ]
  },
  {
   "cell_type": "code",
   "execution_count": 62,
   "metadata": {},
   "outputs": [
    {
     "name": "stdout",
     "output_type": "stream",
     "text": [
      "New array=  [1 2 3 4 5 6]\n"
     ]
    }
   ],
   "source": [
    "b = (a.T).ravel()\n",
    "print('New array= ', b)"
   ]
  },
  {
   "cell_type": "code",
   "execution_count": 63,
   "metadata": {},
   "outputs": [
    {
     "name": "stdout",
     "output_type": "stream",
     "text": [
      "Old array[2x3]=\n",
      " [[1 3 5]\n",
      " [2 4 6]]\n",
      "\n",
      "Flat 1D array=  [1 3 5 2 4 6]\n",
      "\n",
      "New array[3x2]=\n",
      " [[1 3]\n",
      " [5 2]\n",
      " [4 6]]\n"
     ]
    }
   ],
   "source": [
    "#Reshape: shape 1D array to a specific form of matrix\n",
    "\n",
    "a = np.array([[1, 3, 5], [2, 4, 6]])\n",
    "print('Old array[2x3]=\\n', a)\n",
    "\n",
    "b = a.ravel()\n",
    "print('\\nFlat 1D array= ', b)\n",
    "\n",
    "a = b.reshape((3, 2))\n",
    "print('\\nNew array[3x2]=\\n', a)"
   ]
  },
  {
   "cell_type": "code",
   "execution_count": 64,
   "metadata": {},
   "outputs": [
    {
     "name": "stdout",
     "output_type": "stream",
     "text": [
      "[0 1 2 3]\n",
      "[0 1 2 3 0 0 0 0]\n"
     ]
    },
    {
     "ename": "ValueError",
     "evalue": "cannot resize an array that references or is referenced\nby another array in this way.  Use the resize function",
     "output_type": "error",
     "traceback": [
      "\u001b[1;31m---------------------------------------------------------------------------\u001b[0m",
      "\u001b[1;31mValueError\u001b[0m                                Traceback (most recent call last)",
      "\u001b[1;32m<ipython-input-64-c9badd8f9363>\u001b[0m in \u001b[0;36m<module>\u001b[1;34m()\u001b[0m\n\u001b[0;32m      9\u001b[0m \u001b[1;33m\u001b[0m\u001b[0m\n\u001b[0;32m     10\u001b[0m \u001b[0mb\u001b[0m \u001b[1;33m=\u001b[0m \u001b[0ma\u001b[0m\u001b[1;33m\u001b[0m\u001b[0m\n\u001b[1;32m---> 11\u001b[1;33m \u001b[0ma\u001b[0m\u001b[1;33m.\u001b[0m\u001b[0mresize\u001b[0m\u001b[1;33m(\u001b[0m\u001b[1;33m(\u001b[0m\u001b[1;36m4\u001b[0m\u001b[1;33m,\u001b[0m\u001b[1;33m)\u001b[0m\u001b[1;33m)\u001b[0m\u001b[1;33m\u001b[0m\u001b[0m\n\u001b[0m",
      "\u001b[1;31mValueError\u001b[0m: cannot resize an array that references or is referenced\nby another array in this way.  Use the resize function"
     ]
    }
   ],
   "source": [
    "#Resize: resize function modify the size of an array\n",
    "\n",
    "a = np.arange(4)\n",
    "\n",
    "print(a)\n",
    "\n",
    "a.resize((8,))\n",
    "print(a)\n",
    "\n",
    "b = a\n",
    "a.resize((4,))"
   ]
  },
  {
   "cell_type": "code",
   "execution_count": 65,
   "metadata": {},
   "outputs": [],
   "source": [
    "#If we assign one array to another. Then it is not possible to resize the original array"
   ]
  },
  {
   "cell_type": "code",
   "execution_count": 66,
   "metadata": {},
   "outputs": [
    {
     "name": "stdout",
     "output_type": "stream",
     "text": [
      "Old=  [3 5 1 2 7]\n",
      "New=  [1 2 3 5 7]\n",
      "\n",
      "Old=  [3 5 1 2 7]\n",
      "New=  [1 2 3 5 7]\n"
     ]
    }
   ],
   "source": [
    "#Sorting: Eelement of array\n",
    "\n",
    "a = np.array([3, 5, 1, 2, 7])\n",
    "print('Old= ', a)\n",
    "\n",
    "b = np.sort(a) #sort and assign in new variable\n",
    "print('New= ', b)\n",
    "\n",
    "print('\\nOld= ', a)  #sort and assign in same variable\n",
    "a.sort()\n",
    "print('New= ', a)"
   ]
  },
  {
   "cell_type": "code",
   "execution_count": 67,
   "metadata": {},
   "outputs": [
    {
     "name": "stdout",
     "output_type": "stream",
     "text": [
      "Unsorted data=  [3 1 2 6 5]\n",
      "Sorted data=    [1 2 3 5 6]\n",
      "Sorted index=   [1 2 0 4 3]\n"
     ]
    }
   ],
   "source": [
    "#Sorting: fancy indexing\n",
    "\n",
    "a = np.array([3, 1, 2, 6, 5])\n",
    "\n",
    "sorted_index = np.argsort(a)\n",
    "sorted_data = np.sort(a)\n",
    "\n",
    "print('Unsorted data= ', a)\n",
    "print('Sorted data=   ', sorted_data)\n",
    "print('Sorted index=  ', sorted_index)"
   ]
  },
  {
   "cell_type": "code",
   "execution_count": 68,
   "metadata": {},
   "outputs": [
    {
     "name": "stdout",
     "output_type": "stream",
     "text": [
      "[1 2 3 5 6]\n"
     ]
    }
   ],
   "source": [
    "print(a[sorted_index])"
   ]
  }
 ],
 "metadata": {
  "kernelspec": {
   "display_name": "Python 3",
   "language": "python",
   "name": "python3"
  },
  "language_info": {
   "codemirror_mode": {
    "name": "ipython",
    "version": 3
   },
   "file_extension": ".py",
   "mimetype": "text/x-python",
   "name": "python",
   "nbconvert_exporter": "python",
   "pygments_lexer": "ipython3",
   "version": "3.6.5"
  }
 },
 "nbformat": 4,
 "nbformat_minor": 2
}
