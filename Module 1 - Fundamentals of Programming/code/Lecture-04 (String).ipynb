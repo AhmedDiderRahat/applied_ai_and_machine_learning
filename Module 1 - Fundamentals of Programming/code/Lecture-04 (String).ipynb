{
 "cells": [
  {
   "cell_type": "code",
   "execution_count": 3,
   "metadata": {},
   "outputs": [
    {
     "data": {
      "text/plain": [
       "'String is a sequence of Unicode characters'"
      ]
     },
     "execution_count": 3,
     "metadata": {},
     "output_type": "execute_result"
    }
   ],
   "source": [
    "\"\"\"String is a sequence of Unicode characters\"\"\""
   ]
  },
  {
   "cell_type": "code",
   "execution_count": 5,
   "metadata": {},
   "outputs": [
    {
     "name": "stdout",
     "output_type": "stream",
     "text": [
      "Hello world! Hello world! Hello world!\n"
     ]
    }
   ],
   "source": [
    "#String assignment: we can define string by single, double or triple quotation\n",
    "\n",
    "string1 = 'Hello world!'\n",
    "string2 = \"Hello world!\"\n",
    "string3 = '''Hello world!'''\n",
    "\n",
    "print(string1 + \" \" + string2 + \" \" + string3)"
   ]
  },
  {
   "cell_type": "code",
   "execution_count": 7,
   "metadata": {},
   "outputs": [
    {
     "name": "stdout",
     "output_type": "stream",
     "text": [
      "H d world\n"
     ]
    }
   ],
   "source": [
    "#Access element of a string\n",
    "\n",
    "c1 = string1[0]\n",
    "c2 = string1[10]\n",
    "c3 = string1[6:11]\n",
    "\n",
    "print(c1 + ' ' + c2 + ' ' + c3)"
   ]
  },
  {
   "cell_type": "code",
   "execution_count": 8,
   "metadata": {},
   "outputs": [
    {
     "data": {
      "text/plain": [
       "\"String is immutable. So, we can't update any string\""
      ]
     },
     "execution_count": 8,
     "metadata": {},
     "output_type": "execute_result"
    }
   ],
   "source": [
    "#Update string or delete elements from string\n",
    "\n",
    "\"\"\"String is immutable. So, we can't update any string\"\"\""
   ]
  },
  {
   "cell_type": "code",
   "execution_count": 9,
   "metadata": {},
   "outputs": [],
   "source": [
    "#String delete\n",
    "\n",
    "del string1"
   ]
  },
  {
   "cell_type": "code",
   "execution_count": 10,
   "metadata": {},
   "outputs": [],
   "source": [
    "#String operations\n",
    "\n",
    "str1 = \"Joy\"\n",
    "str2 = \"Bangla\""
   ]
  },
  {
   "cell_type": "code",
   "execution_count": 12,
   "metadata": {},
   "outputs": [
    {
     "name": "stdout",
     "output_type": "stream",
     "text": [
      "Joy Bangla\n"
     ]
    }
   ],
   "source": [
    "#Concatenation\n",
    "\n",
    "print(str1 + \" \" + str2)"
   ]
  },
  {
   "cell_type": "code",
   "execution_count": 13,
   "metadata": {},
   "outputs": [
    {
     "name": "stdout",
     "output_type": "stream",
     "text": [
      "JoyJoyJoy\n"
     ]
    }
   ],
   "source": [
    "#repeat a string n-times\n",
    "\n",
    "print(str1 * 3) #here, n = 3"
   ]
  },
  {
   "cell_type": "code",
   "execution_count": 15,
   "metadata": {},
   "outputs": [
    {
     "name": "stdout",
     "output_type": "stream",
     "text": [
      "True\n",
      "False\n"
     ]
    }
   ],
   "source": [
    "#String membership test\n",
    "\n",
    "print('y' in str1) #here, y is in str1\n",
    "print('a' in str1) #but here, a is not in str1"
   ]
  },
  {
   "cell_type": "code",
   "execution_count": 16,
   "metadata": {},
   "outputs": [
    {
     "name": "stdout",
     "output_type": "stream",
     "text": [
      "joy\n"
     ]
    }
   ],
   "source": [
    "#Lower function make the string in lower case\n",
    "\n",
    "print(str1.lower())"
   ]
  },
  {
   "cell_type": "code",
   "execution_count": 17,
   "metadata": {},
   "outputs": [
    {
     "name": "stdout",
     "output_type": "stream",
     "text": [
      "JOY\n"
     ]
    }
   ],
   "source": [
    "#Upper function make the string capitalize\n",
    "\n",
    "print(str1.upper())"
   ]
  },
  {
   "cell_type": "code",
   "execution_count": 56,
   "metadata": {},
   "outputs": [
    {
     "name": "stdout",
     "output_type": "stream",
     "text": [
      "['this', 'is', 'a', 'string', 'for', 'test']\n"
     ]
    }
   ],
   "source": [
    "#Split function break the strings into several parts using the paremeter\n",
    "\n",
    "str3 = \"this is a string for test\"\n",
    "str4 = str3.split(\" \")\n",
    "print(str4)"
   ]
  },
  {
   "cell_type": "code",
   "execution_count": 57,
   "metadata": {},
   "outputs": [
    {
     "name": "stdout",
     "output_type": "stream",
     "text": [
      "this is a string for test\n"
     ]
    }
   ],
   "source": [
    "#Join function merge all the elements of a list and make a string\n",
    "\n",
    "str5 = ' '.join(str4)\n",
    "print(str5)"
   ]
  },
  {
   "cell_type": "code",
   "execution_count": 58,
   "metadata": {},
   "outputs": [
    {
     "name": "stdout",
     "output_type": "stream",
     "text": [
      "2\n"
     ]
    }
   ],
   "source": [
    "#find function return the first occurence of sub string\n",
    "\n",
    "print(str5.find('is'))"
   ]
  },
  {
   "cell_type": "code",
   "execution_count": 59,
   "metadata": {},
   "outputs": [
    {
     "name": "stdout",
     "output_type": "stream",
     "text": [
      "thwas was a string for test\n"
     ]
    }
   ],
   "source": [
    "#replace function one part of string with other\n",
    "\n",
    "print(str5.replace('is', 'was'))"
   ]
  },
  {
   "cell_type": "code",
   "execution_count": 64,
   "metadata": {},
   "outputs": [
    {
     "name": "stdout",
     "output_type": "stream",
     "text": [
      "Old str= this is a string for test\n",
      "New str= a for is string test this\n"
     ]
    }
   ],
   "source": [
    "#sorting word of a string\n",
    "\n",
    "print('Old str= ' + str3)\n",
    "\n",
    "words = str3.split()\n",
    "words.sort()\n",
    "\n",
    "str4 = ' '.join(words)\n",
    "\n",
    "print('New str= ' + str4)"
   ]
  }
 ],
 "metadata": {
  "kernelspec": {
   "display_name": "Python 3",
   "language": "python",
   "name": "python3"
  },
  "language_info": {
   "codemirror_mode": {
    "name": "ipython",
    "version": 3
   },
   "file_extension": ".py",
   "mimetype": "text/x-python",
   "name": "python",
   "nbconvert_exporter": "python",
   "pygments_lexer": "ipython3",
   "version": "3.6.5"
  }
 },
 "nbformat": 4,
 "nbformat_minor": 2
}
