{
 "cells": [
  {
   "cell_type": "code",
   "execution_count": 9,
   "metadata": {},
   "outputs": [
    {
     "name": "stdout",
     "output_type": "stream",
     "text": [
      "Item is: 2 and result is: 1.0\n",
      "Item is: b and result is: Found an error and error is:  <class 'TypeError'>\n",
      "Item is: 0 and result is: Found an error and error is:  <class 'ZeroDivisionError'>\n",
      "Item is: 7 and result is: 0.2857142857142857\n"
     ]
    }
   ],
   "source": [
    "#Exception handling is one of the common feature of any programming language. In python we can handle any exception with try ... and except block\n",
    "\n",
    "import sys\n",
    "\n",
    "my_list = [2, 'b', 0, 7]\n",
    "\n",
    "for item in my_list:\n",
    "    try:\n",
    "        print('Item is: {} and result is: '.format(item), end='')\n",
    "        print(2/item)\n",
    "    except:\n",
    "        print('Found an error and error is: ', sys.exc_info()[0])"
   ]
  },
  {
   "cell_type": "code",
   "execution_count": 10,
   "metadata": {},
   "outputs": [
    {
     "name": "stdout",
     "output_type": "stream",
     "text": [
      "Enter a positive number: -10\n",
      "Error: You enter a negative number\n"
     ]
    }
   ],
   "source": [
    "#Raise an error: it's working same as through in java.\n",
    "\n",
    "try:\n",
    "    num = int(input(\"Enter a positive number: \"))\n",
    "    \n",
    "    if num <= 0:\n",
    "        raise ValueError('Error: You enter a negative number')\n",
    "except ValueError as e:\n",
    "    print(e)"
   ]
  }
 ],
 "metadata": {
  "kernelspec": {
   "display_name": "Python 3",
   "language": "python",
   "name": "python3"
  },
  "language_info": {
   "codemirror_mode": {
    "name": "ipython",
    "version": 3
   },
   "file_extension": ".py",
   "mimetype": "text/x-python",
   "name": "python",
   "nbconvert_exporter": "python",
   "pygments_lexer": "ipython3",
   "version": "3.6.5"
  }
 },
 "nbformat": 4,
 "nbformat_minor": 2
}
