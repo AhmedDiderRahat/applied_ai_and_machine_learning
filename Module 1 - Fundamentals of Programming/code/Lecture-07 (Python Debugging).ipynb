{
 "cells": [
  {
   "cell_type": "code",
   "execution_count": 4,
   "metadata": {},
   "outputs": [
    {
     "name": "stdout",
     "output_type": "stream",
     "text": [
      "> <ipython-input-4-77ed4e4ab2e1>(8)sequencePrinter()\n",
      "-> print(item)\n",
      "(Pdb) p locals()\n",
      "{'item': 0, 'n': 3}\n",
      "(Pdb) c\n",
      "0\n",
      "> <ipython-input-4-77ed4e4ab2e1>(7)sequencePrinter()\n",
      "-> pdb.set_trace() #set the tracker\n",
      "(Pdb) p locals()\n",
      "{'item': 1, 'n': 3}\n",
      "(Pdb) c\n",
      "1\n",
      "> <ipython-input-4-77ed4e4ab2e1>(8)sequencePrinter()\n",
      "-> print(item)\n",
      "(Pdb) p locals()\n",
      "{'item': 2, 'n': 3}\n",
      "(Pdb) c\n",
      "2\n"
     ]
    }
   ],
   "source": [
    "#Debugger helps the developer to keep track of thye code segments while it's executing\n",
    "\n",
    "import pdb\n",
    "\n",
    "def sequencePrinter(n):\n",
    "    for item in range (n):\n",
    "        pdb.set_trace() #set the tracker\n",
    "        print(item)\n",
    "    return\n",
    "\n",
    "sequencePrinter(3)\n",
    "\n",
    "#debugger options: 1) c: continue, 2) q: quit debugging, 3) p: print, 4) locals(): print all local variables, 5) list: get the current execution portion, 6) h: get all the functions"
   ]
  }
 ],
 "metadata": {
  "kernelspec": {
   "display_name": "Python 3",
   "language": "python",
   "name": "python3"
  },
  "language_info": {
   "codemirror_mode": {
    "name": "ipython",
    "version": 3
   },
   "file_extension": ".py",
   "mimetype": "text/x-python",
   "name": "python",
   "nbconvert_exporter": "python",
   "pygments_lexer": "ipython3",
   "version": "3.6.5"
  }
 },
 "nbformat": 4,
 "nbformat_minor": 2
}
